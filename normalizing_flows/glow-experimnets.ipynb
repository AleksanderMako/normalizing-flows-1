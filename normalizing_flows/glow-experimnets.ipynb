{
 "cells": [
  {
   "cell_type": "code",
   "execution_count": null,
   "metadata": {},
   "outputs": [],
   "source": [
    "import tensorflow as tf\n",
    "import tensorflow_probability as tfp\n",
    "import numpy as np\n",
    "from flows import Invert\n",
    "from flows.glow import GlowFlow, coupling_nn_glow\n",
    "from models import FlowLVM\n",
    "from models.optimization import LinearWarmupSchedule\n",
    "from tensorflow.keras.datasets import mnist\n",
    "from tensorflow.keras.utils import to_categorical\n",
    "from tensorflow.keras.layers import Conv2D, Input, Concatenate\n",
    "from tensorflow.keras import Model\n",
    "#tf.config.experimental_run_functions_eagerly(True)"
   ]
  },
  {
   "cell_type": "code",
   "execution_count": null,
   "metadata": {},
   "outputs": [],
   "source": [
    "(X_train, y_train), (X_test, y_test) = mnist.load_data()\n",
    "batch_size = 20\n",
    "X_train = np.expand_dims(X_train, axis=-1)\n",
    "X_train_ds = tf.data.Dataset.from_tensor_slices(X_train.astype(np.float32))\n",
    "X_train_ds = X_train_ds.map(lambda x: x / 255. - 0.5).shuffle(buffer_size=X_train.shape[0]).batch(batch_size)"
   ]
  },
  {
   "cell_type": "code",
   "execution_count": null,
   "metadata": {},
   "outputs": [],
   "source": [
    "glow = Invert(GlowFlow(num_layers=3, depth=8, coupling_nn_ctor=coupling_nn_glow(hidden_dims=64)))\n",
    "learning_rate = LinearWarmupSchedule(1.0E-3, num_warmup_steps=100)\n",
    "#learning_rate = tf.keras.optimizers.schedules.InverseTimeDecay(1.0E-1, N_train//sample_batch_size, 0.1)\n",
    "model = FlowLVM(glow, input_shape=(None,*X_train.shape[1:]), num_bins=255,\n",
    "                optimizer=tf.keras.optimizers.Adamax(learning_rate=learning_rate))"
   ]
  },
  {
   "cell_type": "code",
   "execution_count": null,
   "metadata": {},
   "outputs": [],
   "source": [
    "model.train(X_train_ds, X_train.shape[0] // batch_size, num_epochs=2)"
   ]
  },
  {
   "cell_type": "code",
   "execution_count": null,
   "metadata": {},
   "outputs": [],
   "source": [
    "samples = model.sample(n=6)"
   ]
  },
  {
   "cell_type": "code",
   "execution_count": null,
   "metadata": {},
   "outputs": [],
   "source": [
    "import matplotlib.pyplot as plt\n",
    "for i in range(6):\n",
    "    plt.subplot(2,3,i+1)\n",
    "    plt.imshow(np.squeeze(255*(samples[i]+0.5)))\n",
    "plt.show()"
   ]
  },
  {
   "cell_type": "code",
   "execution_count": null,
   "metadata": {},
   "outputs": [],
   "source": []
  }
 ],
 "metadata": {
  "kernelspec": {
   "display_name": "Python 3",
   "language": "python",
   "name": "python3"
  },
  "language_info": {
   "codemirror_mode": {
    "name": "ipython",
    "version": 3
   },
   "file_extension": ".py",
   "mimetype": "text/x-python",
   "name": "python",
   "nbconvert_exporter": "python",
   "pygments_lexer": "ipython3",
   "version": "3.7.6"
  }
 },
 "nbformat": 4,
 "nbformat_minor": 4
}
