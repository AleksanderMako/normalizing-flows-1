{
 "cells": [
  {
   "cell_type": "code",
   "execution_count": 1,
   "metadata": {},
   "outputs": [],
   "source": [
    "import tensorflow as tf\n",
    "import tensorflow_probability as tfp\n",
    "import matplotlib.pyplot as plt\n",
    "import numpy as np\n",
    "from flows.base import Flow\n",
    "from flows.affine import Planar, Radial\n",
    "from flows.activation import PReLU\n",
    "tfd = tfp.distributions\n",
    "tf.compat.v1.enable_eager_execution()"
   ]
  },
  {
   "cell_type": "code",
   "execution_count": 2,
   "metadata": {},
   "outputs": [],
   "source": [
    "k = 2\n",
    "n_layers = 15\n",
    "prelu = PReLU()\n",
    "planar = Planar(k)\n",
    "radial = Radial(k)\n",
    "transform = planar\n",
    "for i in range(n_layers):\n",
    "    transform = planar(prelu(transform))"
   ]
  },
  {
   "cell_type": "code",
   "execution_count": 3,
   "metadata": {},
   "outputs": [],
   "source": [
    "base_dist = tfd.MultivariateNormalDiag(loc=tf.zeros((k,)))"
   ]
  },
  {
   "cell_type": "code",
   "execution_count": 4,
   "metadata": {},
   "outputs": [],
   "source": [
    "flow = Flow(base_dist, transform, learning_rate=1.0E-5, name='affine_gaussian')"
   ]
  },
  {
   "cell_type": "code",
   "execution_count": 5,
   "metadata": {},
   "outputs": [],
   "source": [
    "x1_samples = tfd.Normal(loc=2.0, scale=4).sample(1000)\n",
    "x2_samples = tfd.Normal(loc=0.5*x1_samples**2.0, scale=2.0*tf.ones(x1_samples.shape)).sample()\n",
    "x_samples = tf.stack([x2_samples, x1_samples], axis=1)"
   ]
  },
  {
   "cell_type": "code",
   "execution_count": 6,
   "metadata": {},
   "outputs": [
    {
     "data": {
      "text/plain": [
       "<matplotlib.collections.PathCollection at 0x7fb8f80362e8>"
      ]
     },
     "execution_count": 6,
     "metadata": {},
     "output_type": "execute_result"
    },
    {
     "data": {
      "image/png": "[encoded data removed]",
      "text/plain": [
       "<Figure size 432x288 with 1 Axes>"
      ]
     },
     "metadata": {
      "needs_background": "light"
     },
     "output_type": "display_data"
    }
   ],
   "source": [
    "plt.scatter(x_samples[:,0], x_samples[:,1])"
   ]
  },
  {
   "cell_type": "code",
   "execution_count": 7,
   "metadata": {},
   "outputs": [
    {
     "data": {
      "text/plain": [
       "<matplotlib.collections.PathCollection at 0x7fb8f0054780>"
      ]
     },
     "execution_count": 7,
     "metadata": {},
     "output_type": "execute_result"
    },
    {
     "data": {
      "image/png": "[encoded data removed]",
      "text/plain": [
       "<Figure size 432x288 with 1 Axes>"
      ]
     },
     "metadata": {
      "needs_background": "light"
     },
     "output_type": "display_data"
    }
   ],
   "source": [
    "flow_dist_samples = flow.dist.sample(512)\n",
    "plt.scatter(flow_dist_samples[:,0], flow_dist_samples[:,1])"
   ]
  },
  {
   "cell_type": "code",
   "execution_count": 8,
   "metadata": {},
   "outputs": [
    {
     "name": "stdout",
     "output_type": "stream",
     "text": [
      "tf.Tensor([[ 1.7864032 -1.0705566]], shape=(1, 2), dtype=float32)\n",
      "tf.Tensor([[ 2.3308077 -2.0907962]], shape=(1, 2), dtype=float32)\n",
      "tf.Tensor([[ 1.7864032 -1.0705566]], shape=(1, 2), dtype=float32)\n",
      "tf.Tensor([[ 1.339369  -0.9068144]], shape=(1, 2), dtype=float32)\n",
      "tf.Tensor([[ 1.7864032 -1.0705566]], shape=(1, 2), dtype=float32)\n"
     ]
    }
   ],
   "source": [
    "print(x_samples[:1])\n",
    "y = radial.forward(x_samples[:1])\n",
    "print(y)\n",
    "print(radial.inverse(y))\n",
    "y = planar.forward(x_samples[:1])\n",
    "print(y)\n",
    "print(planar.inverse(y))"
   ]
  },
  {
   "cell_type": "code",
   "execution_count": 9,
   "metadata": {},
   "outputs": [
    {
     "name": "stdout",
     "output_type": "stream",
     "text": [
      "tf.Tensor([[-3.4576952]], shape=(1, 1), dtype=float32)\n"
     ]
    }
   ],
   "source": [
    "print(radial.inverse_log_det_jacobian(radial.forward(x_samples[:1]), event_ndims=1))"
   ]
  },
  {
   "cell_type": "code",
   "execution_count": null,
   "metadata": {},
   "outputs": [
    {
     "data": {
      "application/vnd.jupyter.widget-view+json": {
       "model_id": "383189b5eef24d538ee36bfcb3c5fbaf",
       "version_major": 2,
       "version_minor": 0
      },
      "text/plain": [
       "HBox(children=(IntProgress(value=0, max=100000), HTML(value='')))"
      ]
     },
     "metadata": {},
     "output_type": "display_data"
    },
    {
     "name": "stderr",
     "output_type": "stream",
     "text": [
      "WARNING: Logging before flag parsing goes to stderr.\n",
      "W0908 19:37:30.769827 140433512466240 deprecation.py:323] From /home/brian/anaconda3/envs/tf2/lib/python3.7/site-packages/tensorflow/python/ops/math_grad.py:1205: add_dispatch_support.<locals>.wrapper (from tensorflow.python.ops.array_ops) is deprecated and will be removed in a future version.\n",
      "Instructions for updating:\n",
      "Use tf.where in 2.0, which has the same broadcast rule as np.where\n"
     ]
    }
   ],
   "source": [
    "from tqdm import tqdm_notebook as tqdm\n",
    "for i in tqdm(range(100000)):\n",
    "    x_batch = x_samples[i*100 % len(x_samples-100):(i+1)*100%len(x_samples)]\n",
    "    log_loss, grads = flow.train_on_batch(x_samples)\n",
    "    if i % 100 == 0:\n",
    "        #vars_grads = list(zip(map(flow.trainable_variables), map(lambda g: g.numpy(), grads)))\n",
    "        print(f'(iteration {i}) log loss: {log_loss.numpy()}')\n",
    "    if i % 1000 == 0:\n",
    "        samples = flow.dist.sample(512)\n",
    "        plt.scatter(samples[:,0], samples[:,1])\n",
    "        plt.show()"
   ]
  },
  {
   "cell_type": "code",
   "execution_count": null,
   "metadata": {},
   "outputs": [],
   "source": []
  },
  {
   "cell_type": "code",
   "execution_count": null,
   "metadata": {},
   "outputs": [],
   "source": []
  },
  {
   "cell_type": "code",
   "execution_count": null,
   "metadata": {},
   "outputs": [],
   "source": []
  }
 ],
 "metadata": {
  "kernelspec": {
   "display_name": "Python 3",
   "language": "python",
   "name": "python3"
  },
  "language_info": {
   "codemirror_mode": {
    "name": "ipython",
    "version": 3
   },
   "file_extension": ".py",
   "mimetype": "text/x-python",
   "name": "python",
   "nbconvert_exporter": "python",
   "pygments_lexer": "ipython3",
   "version": "3.7.3"
  }
 },
 "nbformat": 4,
 "nbformat_minor": 2
}
