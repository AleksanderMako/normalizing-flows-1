{
 "cells": [
  {
   "cell_type": "code",
   "execution_count": 1,
   "metadata": {},
   "outputs": [],
   "source": [
    "import tensorflow as tf\n",
    "import tensorflow_probability as tfp\n",
    "import matplotlib.pyplot as plt\n",
    "import numpy as np\n",
    "from tensorflow.keras import Model\n",
    "from tensorflow.keras.layers import Dense, Input, Lambda, Flatten, Reshape, Conv2D\n",
    "from tensorflow.keras.datasets import mnist\n",
    "from flows import Flow\n",
    "from flows.affine import Planar, Radial\n",
    "from layers import GatedConv2D, GatedConv2DTranspose, FlowLayer\n",
    "tfd = tfp.distributions"
   ]
  },
  {
   "cell_type": "code",
   "execution_count": 2,
   "metadata": {},
   "outputs": [
    {
     "data": {
      "text/plain": [
       "<matplotlib.image.AxesImage at 0x7f951da0eb70>"
      ]
     },
     "execution_count": 2,
     "metadata": {},
     "output_type": "execute_result"
    },
    {
     "data": {
      "image/png": "[encoded data removed]",
      "text/plain": [
       "<Figure size 432x288 with 1 Axes>"
      ]
     },
     "metadata": {
      "needs_background": "light"
     },
     "output_type": "display_data"
    }
   ],
   "source": [
    "(X_train, y_train), (X_test, y_test) = mnist.load_data()\n",
    "X_train = X_train / 255\n",
    "X_test = X_test / 255\n",
    "plt.imshow(X_train[0], cmap='gray')"
   ]
  },
  {
   "cell_type": "code",
   "execution_count": 3,
   "metadata": {},
   "outputs": [],
   "source": [
    "d = 64\n",
    "n_layers = 8\n",
    "flow = Flow(Planar())\n",
    "for i in range(1, n_layers):\n",
    "    flow(Planar())"
   ]
  },
  {
   "cell_type": "code",
   "execution_count": 10,
   "metadata": {},
   "outputs": [],
   "source": [
    "def vae(wt, ht, flow, n_flows=1, hidden_units=64, z_size=64):\n",
    "    p = flow.param_count(z_size)\n",
    "    input_0 = Input((wt, ht, 1))\n",
    "    def conv_downsample(x):\n",
    "        g = GatedConv2D(hidden_units, 3, activation='linear')\n",
    "        g_downsample = GatedConv2D(hidden_units, 3, strides=2)\n",
    "        return g_downsample(g(x))\n",
    "    def conv_upsample(x):\n",
    "        g = GatedConv2DTranspose(hidden_units, 3, activation='linear')\n",
    "        g_upsample = GatedConv2DTranspose(hidden_units, 3, strides=2)\n",
    "        return g_upsample(g(x))\n",
    "    h = conv_downsample(input_0)\n",
    "    z_mu = Dense(z_size, activation='linear')(Flatten()(h))\n",
    "    z_log_sigma = Dense(z_size, activation='linear')(Flatten()(h))\n",
    "    params = Dense(flow.param_count(z_size), activation='linear')(Flatten()(h))\n",
    "    z_0, z_k, ldj, kld = FlowLayer(flow)([z_mu, z_log_sigma, params])\n",
    "    h_k = Dense(wt//2 * ht // 2, activation='linear')(z_k)\n",
    "    x_out = conv_upsample(Reshape((wt//2, ht//2, 1))(h_k))\n",
    "    output_0 = Conv2D(1, 1, activation='linear')(x_out)\n",
    "    model = Model(inputs=input_0, outputs=output_0)\n",
    "    model.compile(loss='mse', optimizer='adam')\n",
    "    return model"
   ]
  },
  {
   "cell_type": "code",
   "execution_count": 11,
   "metadata": {},
   "outputs": [],
   "source": [
    "x_train = np.expand_dims(X_train, axis=-1) #.reshape((-1, X_train.shape[1]*X_train.shape[2]))\n",
    "model = vae(x_train.shape[1], x_train.shape[2], flow, n_flows=n_layers, z_size=d)"
   ]
  },
  {
   "cell_type": "code",
   "execution_count": null,
   "metadata": {},
   "outputs": [],
   "source": [
    "model.fit(x_train, x_train, epochs=2, batch_size=128)"
   ]
  },
  {
   "cell_type": "code",
   "execution_count": 13,
   "metadata": {},
   "outputs": [],
   "source": [
    "x_test = np.expand_dims(X_test, axis=-1) #X_test.reshape((-1, X_test.shape[1]*X_test.shape[2]))\n",
    "x_pred = model.predict(x_test)"
   ]
  },
  {
   "cell_type": "code",
   "execution_count": 14,
   "metadata": {},
   "outputs": [
    {
     "data": {
      "text/plain": [
       "0.074216574"
      ]
     },
     "execution_count": 14,
     "metadata": {},
     "output_type": "execute_result"
    }
   ],
   "source": [
    "from tensorflow.keras.metrics import mean_squared_error\n",
    "tf.math.reduce_mean(mean_squared_error(x_test, x_pred)).numpy()"
   ]
  },
  {
   "cell_type": "code",
   "execution_count": 17,
   "metadata": {},
   "outputs": [
    {
     "data": {
      "image/png": "[encoded data removed]",
      "text/plain": [
       "<Figure size 432x288 with 1 Axes>"
      ]
     },
     "metadata": {
      "needs_background": "light"
     },
     "output_type": "display_data"
    },
    {
     "data": {
      "image/png": "[encoded data removed]",
      "text/plain": [
       "<Figure size 432x288 with 1 Axes>"
      ]
     },
     "metadata": {
      "needs_background": "light"
     },
     "output_type": "display_data"
    }
   ],
   "source": [
    "i = 200\n",
    "plt.imshow(X_test[i], cmap='gray')\n",
    "plt.show()\n",
    "plt.imshow(x_pred[i].squeeze(), cmap='gray')\n",
    "plt.show()"
   ]
  },
  {
   "cell_type": "code",
   "execution_count": null,
   "metadata": {},
   "outputs": [],
   "source": []
  },
  {
   "cell_type": "code",
   "execution_count": null,
   "metadata": {},
   "outputs": [],
   "source": []
  }
 ],
 "metadata": {
  "kernelspec": {
   "display_name": "Python 3",
   "language": "python",
   "name": "python3"
  },
  "language_info": {
   "codemirror_mode": {
    "name": "ipython",
    "version": 3
   },
   "file_extension": ".py",
   "mimetype": "text/x-python",
   "name": "python",
   "nbconvert_exporter": "python",
   "pygments_lexer": "ipython3",
   "version": "3.7.3"
  }
 },
 "nbformat": 4,
 "nbformat_minor": 2
}
