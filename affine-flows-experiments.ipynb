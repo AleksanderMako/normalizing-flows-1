{
 "cells": [
  {
   "cell_type": "code",
   "execution_count": 1,
   "metadata": {},
   "outputs": [],
   "source": [
    "import tensorflow as tf\n",
    "import tensorflow_probability as tfp\n",
    "import matplotlib.pyplot as plt\n",
    "import numpy as np\n",
    "from tensorflow.keras import Model\n",
    "from tensorflow.keras.layers import Dense, Input\n",
    "from flows import Flow\n",
    "from flows.affine import Planar, Radial\n",
    "tfd = tfp.distributions"
   ]
  },
  {
   "cell_type": "code",
   "execution_count": 2,
   "metadata": {},
   "outputs": [],
   "source": [
    "k = 8\n",
    "n_layers = 5\n",
    "transform = Planar(k)\n",
    "for i in range(n_layers):\n",
    "    transform = Planar(k)(transform)"
   ]
  },
  {
   "cell_type": "code",
   "execution_count": 3,
   "metadata": {},
   "outputs": [],
   "source": [
    "base_dist = tfd.MultivariateNormalDiag(loc=tf.zeros((k,)))"
   ]
  },
  {
   "cell_type": "code",
   "execution_count": 4,
   "metadata": {},
   "outputs": [],
   "source": [
    "flow = Flow(transform)"
   ]
  },
  {
   "cell_type": "code",
   "execution_count": 5,
   "metadata": {},
   "outputs": [],
   "source": [
    "x1_samples = tfd.Normal(loc=2.0, scale=4).sample(10000)\n",
    "x2_samples = tfd.Normal(loc=0.5*x1_samples**2.0, scale=2.0*tf.ones(x1_samples.shape)).sample()\n",
    "x_samples = tf.stack([x2_samples, x1_samples], axis=1)"
   ]
  },
  {
   "cell_type": "code",
   "execution_count": 6,
   "metadata": {},
   "outputs": [
    {
     "data": {
      "text/plain": [
       "<matplotlib.collections.PathCollection at 0x7f3f883daac8>"
      ]
     },
     "execution_count": 6,
     "metadata": {},
     "output_type": "execute_result"
    },
    {
     "data": {
      "image/png": "[encoded data removed]",
      "text/plain": [
       "<Figure size 432x288 with 1 Axes>"
      ]
     },
     "metadata": {
      "needs_background": "light"
     },
     "output_type": "display_data"
    }
   ],
   "source": [
    "plt.scatter(x_samples[:,0], x_samples[:,1])"
   ]
  },
  {
   "cell_type": "code",
   "execution_count": 7,
   "metadata": {},
   "outputs": [
    {
     "name": "stdout",
     "output_type": "stream",
     "text": [
      "tfp.distributions.TransformedDistribution(\"chain_of_Planar_of_PlanarMultivariateNormalDiag/\", batch_shape=[], event_shape=[8], dtype=float32)\n"
     ]
    },
    {
     "data": {
      "text/plain": [
       "<matplotlib.collections.PathCollection at 0x7f3f805eb630>"
      ]
     },
     "execution_count": 7,
     "metadata": {},
     "output_type": "execute_result"
    },
    {
     "data": {
      "image/png": "[encoded data removed]",
      "text/plain": [
       "<Figure size 432x288 with 1 Axes>"
      ]
     },
     "metadata": {
      "needs_background": "light"
     },
     "output_type": "display_data"
    }
   ],
   "source": [
    "flow_dist = flow.transform(base_dist)\n",
    "print(flow_dist)\n",
    "flow_dist_samples = flow_dist.sample(512)\n",
    "plt.scatter(flow_dist_samples[:,0], flow_dist_samples[:,1])"
   ]
  },
  {
   "cell_type": "code",
   "execution_count": 16,
   "metadata": {},
   "outputs": [],
   "source": [
    "def build_encoder(input_dims, flow, hidden_units=8):\n",
    "    from tensorflow.keras.layers import Lambda\n",
    "    input_0 = Input(input_dims)\n",
    "    linearh = lambda x: Dense(hidden_units, activation='relu')(x)\n",
    "    h = linearh(linearh(input_0))\n",
    "    mus = Dense(hidden_units)(h)\n",
    "    sigmas = Dense(hidden_units)(h)\n",
    "    flow_params = Dense(flow.amortized_params, activation='linear')(h)\n",
    "    sample = Lambda(lambda args: tf.random.normal((hidden_units,), args[0], args[1]))\n",
    "    def flow_z(args):\n",
    "        z, params = args\n",
    "        flow.amortize(tf.reshape(params, (n_layers, flow.amortized_parasm // n_layers)))\n",
    "        return flow.transform.forward(z)\n",
    "    z_0 = sample([mus, sigmas])\n",
    "    z_k = Lambda(flow_z)(z_0)\n",
    "    return Model(inputs=input_0, outputs=z_k)\n",
    "\n",
    "def build_decoder(output_dims, hidden_units=8):\n",
    "    input_0 = Input(hidden_units)\n",
    "    linearh = lambda x: Dense(hidden_units, activation='relu')(x)\n",
    "    h_out = linearh(linearh(input_0))\n",
    "    output_0 = Dense(output_dims)(h_out)\n",
    "    return Model(inputs=input_0, outputs=output_0)"
   ]
  },
  {
   "cell_type": "code",
   "execution_count": null,
   "metadata": {},
   "outputs": [],
   "source": [
    "encoder = build_encoder(2, flow)\n",
    "decoder = build_decoder(2)"
   ]
  },
  {
   "cell_type": "code",
   "execution_count": 12,
   "metadata": {},
   "outputs": [],
   "source": [
    "model = Model(inputs=encoder.inputs, outputs=decoder(encoder(encoder.inputs)))\n",
    "model.compile(loss='categorical_crossentropy', optimizer='adam')"
   ]
  },
  {
   "cell_type": "code",
   "execution_count": 13,
   "metadata": {},
   "outputs": [
    {
     "name": "stdout",
     "output_type": "stream",
     "text": [
      "Train on 10000 samples\n",
      "Epoch 1/20\n",
      "10000/10000 [==============================] - 1s 72us/sample - loss: 7.9891\n",
      "Epoch 2/20\n",
      "10000/10000 [==============================] - 0s 38us/sample - loss: 8.5192\n",
      "Epoch 3/20\n",
      "10000/10000 [==============================] - 0s 36us/sample - loss: 3.5776\n",
      "Epoch 4/20\n",
      "10000/10000 [==============================] - 0s 39us/sample - loss: -3.9795\n",
      "Epoch 5/20\n",
      "10000/10000 [==============================] - 0s 36us/sample - loss: -5.0299\n",
      "Epoch 6/20\n",
      "10000/10000 [==============================] - 0s 38us/sample - loss: -5.2247\n",
      "Epoch 7/20\n",
      "10000/10000 [==============================] - 0s 37us/sample - loss: -6.2585\n",
      "Epoch 8/20\n",
      "10000/10000 [==============================] - 0s 46us/sample - loss: -6.5890\n",
      "Epoch 9/20\n",
      "10000/10000 [==============================] - 0s 40us/sample - loss: -6.5315\n",
      "Epoch 10/20\n",
      "10000/10000 [==============================] - 0s 43us/sample - loss: -6.1680\n",
      "Epoch 11/20\n",
      "10000/10000 [==============================] - 0s 41us/sample - loss: -5.8961\n",
      "Epoch 12/20\n",
      "10000/10000 [==============================] - 0s 45us/sample - loss: -6.1729\n",
      "Epoch 13/20\n",
      "10000/10000 [==============================] - 0s 44us/sample - loss: -5.9071\n",
      "Epoch 14/20\n",
      "10000/10000 [==============================] - 0s 43us/sample - loss: -5.8452\n",
      "Epoch 15/20\n",
      "10000/10000 [==============================] - 0s 40us/sample - loss: -5.9725\n",
      "Epoch 16/20\n",
      "10000/10000 [==============================] - 0s 38us/sample - loss: -6.2287\n",
      "Epoch 17/20\n",
      "10000/10000 [==============================] - 0s 37us/sample - loss: -6.3566\n",
      "Epoch 18/20\n",
      "10000/10000 [==============================] - 0s 40us/sample - loss: -6.2712\n",
      "Epoch 19/20\n",
      "10000/10000 [==============================] - 0s 37us/sample - loss: -5.6920\n",
      "Epoch 20/20\n",
      "10000/10000 [==============================] - 0s 37us/sample - loss: -5.6448\n"
     ]
    },
    {
     "data": {
      "text/plain": [
       "<tensorflow.python.keras.callbacks.History at 0x7f3f3c1c0f60>"
      ]
     },
     "execution_count": 13,
     "metadata": {},
     "output_type": "execute_result"
    }
   ],
   "source": [
    "model.fit(x_samples, x_samples, epochs=20)"
   ]
  },
  {
   "cell_type": "code",
   "execution_count": 14,
   "metadata": {},
   "outputs": [],
   "source": [
    "model_samples = model.predict(x_samples)"
   ]
  },
  {
   "cell_type": "code",
   "execution_count": null,
   "metadata": {},
   "outputs": [],
   "source": []
  }
 ],
 "metadata": {
  "kernelspec": {
   "display_name": "Python 3",
   "language": "python",
   "name": "python3"
  },
  "language_info": {
   "codemirror_mode": {
    "name": "ipython",
    "version": 3
   },
   "file_extension": ".py",
   "mimetype": "text/x-python",
   "name": "python",
   "nbconvert_exporter": "python",
   "pygments_lexer": "ipython3",
   "version": "3.7.3"
  }
 },
 "nbformat": 4,
 "nbformat_minor": 2
}
