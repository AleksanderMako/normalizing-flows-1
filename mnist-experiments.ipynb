{
 "cells": [
  {
   "cell_type": "code",
   "execution_count": 1,
   "metadata": {
    "colab": {
     "base_uri": "https://localhost:8080/",
     "height": 141
    },
    "colab_type": "code",
    "executionInfo": {
     "elapsed": 32238,
     "status": "ok",
     "timestamp": 1574097595839,
     "user": {
      "displayName": "Brian Groenke",
      "photoUrl": "https://lh3.googleusercontent.com/a-/AAuE7mBtsOR7pkIGzyJlhVWNSQL6d4_4ebdoNvhXtkDfGw=s64",
      "userId": "16782961711179916085"
     },
     "user_tz": 420
    },
    "id": "HVr1KGbC7zpW",
    "outputId": "278a11e2-e5b8-4b32-f81f-4757d100559e"
   },
   "outputs": [
    {
     "name": "stdout",
     "output_type": "stream",
     "text": [
      "Go to this URL in a browser: https://accounts.google.com/o/oauth2/auth?client_id=947318989803-6bn6qk8qdgf4n4g3pfee6491hc0brc4i.apps.googleusercontent.com&redirect_uri=urn%3aietf%3awg%3aoauth%3a2.0%3aoob&response_type=code&scope=email%20https%3a%2f%2fwww.googleapis.com%2fauth%2fdocs.test%20https%3a%2f%2fwww.googleapis.com%2fauth%2fdrive%20https%3a%2f%2fwww.googleapis.com%2fauth%2fdrive.photos.readonly%20https%3a%2f%2fwww.googleapis.com%2fauth%2fpeopleapi.readonly\n",
      "\n",
      "Enter your authorization code:\n",
      "··········\n",
      "Mounted at /content/drive\n",
      "/content/drive/My Drive/Colab Notebooks/normalizing-flows\n"
     ]
    }
   ],
   "source": [
    "from google.colab import drive\n",
    "drive.mount('/content/drive')\n",
    "%cd \"/content/drive/My Drive/Colab Notebooks/normalizing-flows\""
   ]
  },
  {
   "cell_type": "code",
   "execution_count": 1,
   "metadata": {
    "colab": {
     "base_uri": "https://localhost:8080/",
     "height": 64
    },
    "colab_type": "code",
    "executionInfo": {
     "elapsed": 46663,
     "status": "ok",
     "timestamp": 1574097610274,
     "user": {
      "displayName": "Brian Groenke",
      "photoUrl": "https://lh3.googleusercontent.com/a-/AAuE7mBtsOR7pkIGzyJlhVWNSQL6d4_4ebdoNvhXtkDfGw=s64",
      "userId": "16782961711179916085"
     },
     "user_tz": 420
    },
    "id": "Xg_LA1mm7oeh",
    "outputId": "7b7c17b9-b1e6-4a7f-f003-170529fd6415"
   },
   "outputs": [],
   "source": [
    "import tensorflow as tf\n",
    "import matplotlib.pyplot as plt\n",
    "import numpy as np\n",
    "from tensorflow.keras.datasets import mnist\n",
    "from flows import Flow\n",
    "from flows.affine import Planar, Radial\n",
    "from flows.sylvester import TriangularSylvester\n",
    "from models.vae import GatedConvVAE"
   ]
  },
  {
   "cell_type": "code",
   "execution_count": 2,
   "metadata": {
    "colab": {
     "base_uri": "https://localhost:8080/",
     "height": 317
    },
    "colab_type": "code",
    "executionInfo": {
     "elapsed": 47021,
     "status": "ok",
     "timestamp": 1574097610644,
     "user": {
      "displayName": "Brian Groenke",
      "photoUrl": "https://lh3.googleusercontent.com/a-/AAuE7mBtsOR7pkIGzyJlhVWNSQL6d4_4ebdoNvhXtkDfGw=s64",
      "userId": "16782961711179916085"
     },
     "user_tz": 420
    },
    "id": "FrEGP7ip7oex",
    "outputId": "58b81c58-a521-4942-fe40-a4ac36ab972f"
   },
   "outputs": [
    {
     "data": {
      "image/png": "[encoded data removed]",
      "text/plain": [
       "<Figure size 432x288 with 1 Axes>"
      ]
     },
     "metadata": {
      "needs_background": "light"
     },
     "output_type": "display_data"
    }
   ],
   "source": [
    "(X_train, y_train), (X_test, y_test) = mnist.load_data()\n",
    "X_train = (X_train > 0).astype(np.float32)\n",
    "X_test = (X_test > 0).astype(np.float32)\n",
    "plt.imshow(X_train[0], cmap='gray')\n",
    "x_train = np.expand_dims(X_train, axis=-1)"
   ]
  },
  {
   "cell_type": "code",
   "execution_count": 3,
   "metadata": {},
   "outputs": [],
   "source": [
    "def plot_images(x_test, x_pred):\n",
    "    plt.subplot(2,4,1)\n",
    "    plt.imshow(x_test[0], cmap='gray')\n",
    "    plt.subplot(2,4,2)\n",
    "    plt.imshow(x_test[1], cmap='gray')\n",
    "    plt.subplot(2,4,3)\n",
    "    plt.imshow(x_test[2], cmap='gray')\n",
    "    plt.subplot(2,4,4)\n",
    "    plt.imshow(x_test[3], cmap='gray')\n",
    "    plt.subplot(2,4,5)\n",
    "    plt.imshow(x_pred[0].squeeze(), cmap='gray')\n",
    "    plt.subplot(2,4,6)\n",
    "    plt.imshow(x_pred[1].squeeze(), cmap='gray')\n",
    "    plt.subplot(2,4,7)\n",
    "    plt.imshow(x_pred[2].squeeze(), cmap='gray')\n",
    "    plt.subplot(2,4,8)\n",
    "    plt.imshow(x_pred[3].squeeze(), cmap='gray')\n",
    "    plt.show()"
   ]
  },
  {
   "cell_type": "code",
   "execution_count": null,
   "metadata": {},
   "outputs": [],
   "source": [
    "def "
   ]
  },
  {
   "cell_type": "code",
   "execution_count": 4,
   "metadata": {},
   "outputs": [],
   "source": [
    "def train_vae(x_train, flow=None, z_size=32, n_epochs=10):\n",
    "    beta_update = lambda i, beta: 1.0E-1*(i+1)\n",
    "    vae = GatedConvVAE(x_train.shape[1], x_train.shape[2], flow, z_size=z_size, beta_update_fn=beta_update)\n",
    "    vae.fit(x_train, x_train, epochs=n_epochs, batch_size=128)\n",
    "    return vae"
   ]
  },
  {
   "cell_type": "markdown",
   "metadata": {},
   "source": [
    "### Vanilla VAE"
   ]
  },
  {
   "cell_type": "code",
   "execution_count": 5,
   "metadata": {},
   "outputs": [
    {
     "name": "stdout",
     "output_type": "stream",
     "text": [
      "Train on 60000 samples\n",
      "Epoch 1/10\n",
      "60000/60000 [==============================] - 10s 173us/sample - loss: 0.2188\n",
      "Epoch 2/10\n",
      "60000/60000 [==============================] - 6s 97us/sample - loss: 0.1328\n",
      "Epoch 3/10\n",
      "60000/60000 [==============================] - 6s 98us/sample - loss: 0.1209\n",
      "Epoch 4/10\n",
      "60000/60000 [==============================] - 6s 97us/sample - loss: 0.1147\n",
      "Epoch 5/10\n",
      "60000/60000 [==============================] - 6s 97us/sample - loss: 0.1108\n",
      "Epoch 6/10\n",
      "60000/60000 [==============================] - 6s 98us/sample - loss: 0.1079\n",
      "Epoch 7/10\n",
      "60000/60000 [==============================] - 6s 98us/sample - loss: 0.1055\n",
      "Epoch 8/10\n",
      "60000/60000 [==============================] - 6s 97us/sample - loss: 0.1036\n",
      "Epoch 9/10\n",
      "60000/60000 [==============================] - 6s 97us/sample - loss: 0.1021\n",
      "Epoch 10/10\n",
      "60000/60000 [==============================] - 6s 98us/sample - loss: 0.1007\n"
     ]
    }
   ],
   "source": [
    "vae = train_vae(x_train)"
   ]
  },
  {
   "cell_type": "code",
   "execution_count": 6,
   "metadata": {},
   "outputs": [
    {
     "data": {
      "image/png": "[encoded data removed]",
      "text/plain": [
       "<Figure size 432x288 with 8 Axes>"
      ]
     },
     "metadata": {
      "needs_background": "light"
     },
     "output_type": "display_data"
    }
   ],
   "source": [
    "x_test = np.expand_dims(X_test, axis=-1)\n",
    "x_pred = vae.predict(x_test)\n",
    "plot_images(x_test.squeeze(), x_pred)"
   ]
  },
  {
   "cell_type": "markdown",
   "metadata": {},
   "source": [
    "### Planar VAE"
   ]
  },
  {
   "cell_type": "code",
   "execution_count": 7,
   "metadata": {},
   "outputs": [
    {
     "name": "stdout",
     "output_type": "stream",
     "text": [
      "Train on 60000 samples\n",
      "Epoch 1/10\n",
      "60000/60000 [==============================] - 12s 200us/sample - loss: 0.2091\n",
      "Epoch 2/10\n",
      "60000/60000 [==============================] - 8s 127us/sample - loss: 0.1277\n",
      "Epoch 3/10\n",
      "60000/60000 [==============================] - 8s 126us/sample - loss: 0.1164\n",
      "Epoch 4/10\n",
      "60000/60000 [==============================] - 7s 124us/sample - loss: 0.1107\n",
      "Epoch 5/10\n",
      "60000/60000 [==============================] - 7s 124us/sample - loss: 0.1069\n",
      "Epoch 6/10\n",
      "60000/60000 [==============================] - 7s 124us/sample - loss: 0.1040\n",
      "Epoch 7/10\n",
      "60000/60000 [==============================] - 8s 127us/sample - loss: 0.1019\n",
      "Epoch 8/10\n",
      "60000/60000 [==============================] - 8s 125us/sample - loss: 0.1001\n",
      "Epoch 9/10\n",
      "60000/60000 [==============================] - 8s 125us/sample - loss: 0.0986\n",
      "Epoch 10/10\n",
      "60000/60000 [==============================] - 8s 125us/sample - loss: 0.0973\n"
     ]
    }
   ],
   "source": [
    "n_flows = 5\n",
    "planar_flow = Flow(n_flows, lambda i: Planar())\n",
    "planar_vae = train_vae(x_train, planar_flow)"
   ]
  },
  {
   "cell_type": "code",
   "execution_count": 8,
   "metadata": {},
   "outputs": [
    {
     "data": {
      "image/png": "[encoded data removed]",
      "text/plain": [
       "<Figure size 432x288 with 8 Axes>"
      ]
     },
     "metadata": {
      "needs_background": "light"
     },
     "output_type": "display_data"
    }
   ],
   "source": [
    "x_test = np.expand_dims(X_test, axis=-1)\n",
    "x_pred = planar_vae.predict(x_test)\n",
    "plot_images(x_test.squeeze(), x_pred)"
   ]
  },
  {
   "cell_type": "markdown",
   "metadata": {},
   "source": [
    "### Triangular Sylvester VAE"
   ]
  },
  {
   "cell_type": "code",
   "execution_count": 9,
   "metadata": {
    "colab": {},
    "colab_type": "code",
    "id": "drVSCKnp7oe7"
   },
   "outputs": [
    {
     "name": "stdout",
     "output_type": "stream",
     "text": [
      "Train on 60000 samples\n",
      "Epoch 1/10\n",
      "60000/60000 [==============================] - 15s 250us/sample - loss: 0.1944\n",
      "Epoch 2/10\n",
      "60000/60000 [==============================] - 10s 168us/sample - loss: 0.1178\n",
      "Epoch 3/10\n",
      "60000/60000 [==============================] - 10s 168us/sample - loss: 0.1071\n",
      "Epoch 4/10\n",
      "60000/60000 [==============================] - 10s 166us/sample - loss: 0.1011\n",
      "Epoch 5/10\n",
      "60000/60000 [==============================] - 10s 165us/sample - loss: 0.0975\n",
      "Epoch 6/10\n",
      "60000/60000 [==============================] - 10s 168us/sample - loss: 0.0950\n",
      "Epoch 7/10\n",
      "60000/60000 [==============================] - 10s 167us/sample - loss: 0.0930\n",
      "Epoch 8/10\n",
      "60000/60000 [==============================] - 10s 167us/sample - loss: 0.0915\n",
      "Epoch 9/10\n",
      "60000/60000 [==============================] - 10s 168us/sample - loss: 0.0903\n",
      "Epoch 10/10\n",
      "60000/60000 [==============================] - 10s 169us/sample - loss: 0.0893\n"
     ]
    }
   ],
   "source": [
    "n_flows = 5\n",
    "tsnf_flow = Flow(n_flows, lambda i: TriangularSylvester(flip_z = i % 2 != 0))\n",
    "tsnf_vae = train_vae(x_train, tsnf_flow)"
   ]
  },
  {
   "cell_type": "code",
   "execution_count": 10,
   "metadata": {
    "colab": {},
    "colab_type": "code",
    "id": "qH4g0rM17ofT"
   },
   "outputs": [
    {
     "data": {
      "image/png": "[encoded data removed]",
      "text/plain": [
       "<Figure size 432x288 with 8 Axes>"
      ]
     },
     "metadata": {
      "needs_background": "light"
     },
     "output_type": "display_data"
    }
   ],
   "source": [
    "x_test = np.expand_dims(X_test, axis=-1)\n",
    "x_pred = tsnf_vae.predict(x_test)\n",
    "plot_images(x_test.squeeze(), x_pred)"
   ]
  },
  {
   "cell_type": "code",
   "execution_count": null,
   "metadata": {
    "colab": {},
    "colab_type": "code",
    "id": "ybdpkrD87ofl"
   },
   "outputs": [],
   "source": [
    "z_mu, z_log_sigma, params = vae.encoder.predict(x_test[10:11])\n",
    "plt.figure(figsize=(4*6,2*4))\n",
    "for i in range(1,9):\n",
    "    x_pred = vae.decoder.predict([z_mu, z_log_sigma, params])\n",
    "    plt.subplot(2,4,i)\n",
    "    plt.imshow(tf.squeeze(x_pred).numpy())"
   ]
  },
  {
   "cell_type": "code",
   "execution_count": null,
   "metadata": {
    "colab": {},
    "colab_type": "code",
    "id": "ioVJwZ2tx0-j"
   },
   "outputs": [],
   "source": []
  }
 ],
 "metadata": {
  "accelerator": "GPU",
  "colab": {
   "collapsed_sections": [],
   "name": "affine-flows-experiments.ipynb",
   "provenance": []
  },
  "kernelspec": {
   "display_name": "Python 3",
   "language": "python",
   "name": "python3"
  },
  "language_info": {
   "codemirror_mode": {
    "name": "ipython",
    "version": 3
   },
   "file_extension": ".py",
   "mimetype": "text/x-python",
   "name": "python",
   "nbconvert_exporter": "python",
   "pygments_lexer": "ipython3",
   "version": "3.7.3"
  }
 },
 "nbformat": 4,
 "nbformat_minor": 4
}
