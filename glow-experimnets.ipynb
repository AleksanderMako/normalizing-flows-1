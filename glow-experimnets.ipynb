{
 "cells": [
  {
   "cell_type": "code",
   "execution_count": 1,
   "metadata": {},
   "outputs": [],
   "source": [
    "import tensorflow as tf\n",
    "import tensorflow_probability as tfp\n",
    "import numpy as np\n",
    "from models import glow\n",
    "from flows.glow import coupling_nn_glow\n",
    "from tensorflow.keras.datasets import mnist\n",
    "from tensorflow.keras.utils import to_categorical\n",
    "from tensorflow.keras.layers import Conv2D, Input, Concatenate\n",
    "from tensorflow.keras import Model\n",
    "\n",
    "#tf.config.experimental_run_functions_eagerly(True)"
   ]
  },
  {
   "cell_type": "code",
   "execution_count": 2,
   "metadata": {},
   "outputs": [],
   "source": [
    "(X_train, y_train), (X_test, y_test) = mnist.load_data()\n",
    "batch_size = 100\n",
    "X_train = np.expand_dims(X_train, axis=-1)\n",
    "X_train_ds = tf.data.Dataset.from_tensor_slices(X_train.astype(np.float32))\n",
    "X_train_ds = X_train_ds.map(lambda x: x / 255. - 0.5).shuffle(buffer_size=1000).batch(batch_size)"
   ]
  },
  {
   "cell_type": "code",
   "execution_count": 3,
   "metadata": {},
   "outputs": [],
   "source": [
    "prior_dist = tfp.distributions.Normal(loc=tf.zeros((1, *X_train.shape[1:])), scale=tf.ones((1, *X_train.shape[1:])))\n",
    "def prior_model(input_shape):\n",
    "    from tensorflow.keras.regularizers import l2\n",
    "    x = Input(input_shape)\n",
    "    y = Conv2D(32, 5, activation='relu', padding='same', kernel_regularizer=l2(1.0E-3))(x)\n",
    "    y = Conv2D(32, 3, activation='relu', padding='same', kernel_regularizer=l2(1.0E-3))(y)\n",
    "    theta = Conv2D(2, 3, activation='linear', padding='same', kernel_regularizer=l2(1.0E-3))(y)\n",
    "    return Model(inputs=x, outputs=theta)\n",
    "\n",
    "def logistic(bijector=tfp.bijectors.Identity(), axis=-1, epsilon=1.0E-6):\n",
    "    def _logistic(params: tf.Tensor):\n",
    "        mus = tf.gather(params, [0], axis=axis)\n",
    "        log_scales = tf.gather(params, [1], axis=axis)\n",
    "        base_dist = tfp.distributions.Logistic(loc=mus, scale=epsilon + tf.math.exp(log_scales), allow_nan_stats=False)\n",
    "        transformed_dist = tfp.distributions.TransformedDistribution(base_dist, bijector=bijector)\n",
    "        return transformed_dist\n",
    "    return _logistic\n",
    "\n",
    "def normal(bijector=tfp.bijectors.Identity(), axis=-1, epsilon=1.0E-6):\n",
    "    def _normal(params: tf.Tensor):\n",
    "        mus = tf.gather(params, [0], axis=axis)\n",
    "        log_sigmas = tf.gather(params, [1], axis=axis)\n",
    "        shape = tf.shape(mus)\n",
    "        mus = tf.reshape(mus, (-1, tf.math.reduce_prod(shape[1:])))\n",
    "        log_sigmas = tf.reshape(log_sigmas, (-1, tf.math.reduce_prod(shape[1:])))\n",
    "        base_dist = tfp.distributions.MultivariateNormalDiag(loc=mus, scale_diag=epsilon + tf.math.exp(log_sigmas), allow_nan_stats=False)\n",
    "        reshape = tfp.bijectors.Reshape(shape[1:])\n",
    "        chain = tfp.bijectors.Chain([bijector, reshape])\n",
    "        transformed_dist = tfp.distributions.TransformedDistribution(base_dist, bijector=chain)\n",
    "        return transformed_dist\n",
    "    return _normal"
   ]
  },
  {
   "cell_type": "code",
   "execution_count": 4,
   "metadata": {},
   "outputs": [],
   "source": [
    "model = glow.Glow(prior_model(X_train.shape[1:]), prior_parameterize=normal(), num_layers=1, depth_per_layer=16,\n",
    "                  coupling_nn_ctor=coupling_nn_glow(hidden_dims=32))"
   ]
  },
  {
   "cell_type": "code",
   "execution_count": 5,
   "metadata": {},
   "outputs": [
    {
     "name": "stderr",
     "output_type": "stream",
     "text": [
      "100%|██████████| 600000/600000 [25:22<00:00, 394.17it/s, epoch=11, loss=-1.92e+3, nll=-1.95e+3, prior=-60, ildj=2.01e+3, grad norm=1.04e+5]  \n"
     ]
    }
   ],
   "source": [
    "from tqdm import tqdm\n",
    "N = X_train.shape[0]\n",
    "epochs = 10\n",
    "with tqdm(total=N*epochs) as prog:\n",
    "    n = 0\n",
    "    loss_hist = []\n",
    "    nll_hist = []\n",
    "    prior_hist = []\n",
    "    for batch in X_train_ds.take(N//batch_size).repeat(epochs):\n",
    "        n += batch_size\n",
    "        loss, nll, prior, ildj, grad_norm = model.train_batch(batch)\n",
    "        loss_hist.append(loss.numpy())\n",
    "        nll_hist.append(nll.numpy())\n",
    "        prior_hist.append(prior.numpy())\n",
    "        prog.update(batch_size)\n",
    "        prog.set_postfix({'epoch': (n // N) + 1,\n",
    "                          'loss': np.mean(loss_hist),\n",
    "                          'nll': np.mean(nll_hist),\n",
    "                          'prior': np.mean(prior_hist),\n",
    "                          'ildj': ildj.numpy(),\n",
    "                          'grad norm': grad_norm.numpy()})"
   ]
  },
  {
   "cell_type": "code",
   "execution_count": 6,
   "metadata": {},
   "outputs": [],
   "source": [
    "x = X_train[[i for i in np.random.randint(0, X_train.shape[0], size=6)]].astype(np.float32) / 255. - 0.5\n",
    "t = model.prior(x)\n",
    "dist = model.prior_parameterize(t)"
   ]
  },
  {
   "cell_type": "code",
   "execution_count": 7,
   "metadata": {},
   "outputs": [],
   "source": [
    "#z = tf.reshape(prior_dist.sample(6), (6, *X_train.shape[1:]))\n",
    "z = dist.sample()\n",
    "x_, _= model.glow.inverse(z)\n",
    "_ = tf.debugging.assert_all_finite(x_, 'inverse produced nan/inf values')"
   ]
  },
  {
   "cell_type": "code",
   "execution_count": 8,
   "metadata": {},
   "outputs": [
    {
     "data": {
      "image/png": "[encoded data removed]",
      "text/plain": [
       "<Figure size 432x288 with 6 Axes>"
      ]
     },
     "metadata": {
      "needs_background": "light"
     },
     "output_type": "display_data"
    }
   ],
   "source": [
    "import matplotlib.pyplot as plt\n",
    "for i in range(6):\n",
    "    plt.subplot(2,3,i+1)\n",
    "    plt.imshow(np.squeeze(x_[i]), cmap='gray')\n",
    "plt.show()"
   ]
  },
  {
   "cell_type": "code",
   "execution_count": null,
   "metadata": {},
   "outputs": [],
   "source": []
  }
 ],
 "metadata": {
  "kernelspec": {
   "display_name": "Python 3",
   "language": "python",
   "name": "python3"
  },
  "language_info": {
   "codemirror_mode": {
    "name": "ipython",
    "version": 3
   },
   "file_extension": ".py",
   "mimetype": "text/x-python",
   "name": "python",
   "nbconvert_exporter": "python",
   "pygments_lexer": "ipython3",
   "version": "3.7.3"
  }
 },
 "nbformat": 4,
 "nbformat_minor": 4
}
