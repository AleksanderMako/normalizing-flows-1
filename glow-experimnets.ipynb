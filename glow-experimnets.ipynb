{
 "cells": [
  {
   "cell_type": "code",
   "execution_count": 1,
   "metadata": {},
   "outputs": [],
   "source": [
    "import tensorflow as tf\n",
    "import tensorflow_probability as tfp\n",
    "import numpy as np\n",
    "from models import glow\n",
    "from flows.glow import resnet_glow\n",
    "from tensorflow.keras.datasets import mnist\n",
    "from tensorflow.keras.utils import to_categorical\n",
    "from tensorflow.keras.layers import Conv2D, Input, Concatenate\n",
    "from tensorflow.keras import Model"
   ]
  },
  {
   "cell_type": "code",
   "execution_count": 2,
   "metadata": {},
   "outputs": [],
   "source": [
    "(X_train, y_train), (X_test, y_test) = mnist.load_data()\n",
    "batch_size = 10\n",
    "X_train = np.expand_dims(X_train, axis=-1)\n",
    "X_train_ds = tf.data.Dataset.from_tensor_slices(X_train.astype(np.float32))\n",
    "X_train_ds = X_train_ds.map(lambda x: x / 255.).shuffle(buffer_size=1000).batch(batch_size)"
   ]
  },
  {
   "cell_type": "code",
   "execution_count": 3,
   "metadata": {},
   "outputs": [],
   "source": [
    "#prior = tfp.distributions.Logistic(loc=2*tf.ones((1, *X_train.shape[1:])), scale=tf.ones((1, *X_train.shape[1:])))\n",
    "def prior_model(input_shape):\n",
    "    x = Input(input_shape)\n",
    "    y = Conv2D(32, 5, activation='relu', padding='same')(x)\n",
    "    y = Conv2D(32, 5, activation='relu', padding='same')(y)\n",
    "    theta = Conv2D(2, 5, activation='linear', padding='same')(y)\n",
    "    return Model(inputs=x, outputs=theta)\n",
    "\n",
    "def logistic(bijector=tfp.bijectors.Identity(), axis=-1, epsilon=1.0E-6):\n",
    "    def _logistic(params: tf.Tensor):\n",
    "        mus = tf.gather(params, [0], axis=axis)\n",
    "        log_scales = tf.gather(params, [1], axis=axis)\n",
    "        base_dist = tfp.distributions.Logistic(loc=mus, scale=epsilon + tf.math.exp(log_scales), allow_nan_stats=False)\n",
    "        transformed_dist = tfp.distributions.TransformedDistribution(base_dist, bijector=bijector)\n",
    "        return transformed_dist\n",
    "    return _logistic"
   ]
  },
  {
   "cell_type": "code",
   "execution_count": 4,
   "metadata": {},
   "outputs": [],
   "source": [
    "model = glow.Glow(prior_model(X_train.shape[1:]), prior_parameterize=logistic(), num_layers=1, depth_per_layer=4, coupling_nn_ctor=resnet_glow(hidden_dims=64),\n",
    "                  optimizer=tf.keras.optimizers.Adamax(lr=1.0E-3))"
   ]
  },
  {
   "cell_type": "code",
   "execution_count": null,
   "metadata": {},
   "outputs": [
    {
     "name": "stderr",
     "output_type": "stream",
     "text": [
      " 13%|█▎        | 15790/120000 [14:35<2:48:07, 10.33it/s, epoch=1, loss=-1.13e+3, nll=-1.13e+3, prior=-1.23e+3, ildj=-97.9, grad norm=1.95e+5]"
     ]
    }
   ],
   "source": [
    "from tqdm import tqdm\n",
    "N = X_train.shape[0]\n",
    "epochs = 2\n",
    "with tqdm(total=N*epochs) as prog:\n",
    "    n = 0\n",
    "    for batch in X_train_ds.take(N//batch_size).repeat(epochs):\n",
    "        n += batch_size\n",
    "        loss, nll, prior, ildj, grad_norm = model.train_batch(batch)\n",
    "        prog.update(batch_size)\n",
    "        prog.set_postfix({'epoch': (n // N) + 1,\n",
    "                          'loss': loss.numpy(),\n",
    "                          'nll': nll.numpy(),\n",
    "                          'prior': prior.numpy(),\n",
    "                          'ildj': ildj.numpy(),\n",
    "                          'grad norm': grad_norm.numpy()})"
   ]
  },
  {
   "cell_type": "code",
   "execution_count": null,
   "metadata": {},
   "outputs": [],
   "source": [
    "x = X_train[[i for i in np.random.randint(0, X_train.shape[0], size=6)]].astype(np.float32) / 255.\n",
    "t = model.prior(x)\n",
    "dist = model.prior_parameterize(t)"
   ]
  },
  {
   "cell_type": "code",
   "execution_count": null,
   "metadata": {},
   "outputs": [],
   "source": [
    "z = dist.sample()\n",
    "x_ = model.glow.forward(z)\n",
    "print(x_.shape)"
   ]
  },
  {
   "cell_type": "code",
   "execution_count": null,
   "metadata": {},
   "outputs": [],
   "source": [
    "import matplotlib.pyplot as plt\n",
    "for i in range(6):\n",
    "    plt.subplot(2,3,i+1)\n",
    "    plt.imshow(np.squeeze(x_[i]), cmap='gray')\n",
    "plt.show()"
   ]
  },
  {
   "cell_type": "code",
   "execution_count": null,
   "metadata": {},
   "outputs": [],
   "source": []
  }
 ],
 "metadata": {
  "kernelspec": {
   "display_name": "Python 3",
   "language": "python",
   "name": "python3"
  },
  "language_info": {
   "codemirror_mode": {
    "name": "ipython",
    "version": 3
   },
   "file_extension": ".py",
   "mimetype": "text/x-python",
   "name": "python",
   "nbconvert_exporter": "python",
   "pygments_lexer": "ipython3",
   "version": "3.7.3"
  }
 },
 "nbformat": 4,
 "nbformat_minor": 4
}
