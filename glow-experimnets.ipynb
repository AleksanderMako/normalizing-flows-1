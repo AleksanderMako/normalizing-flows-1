{
 "cells": [
  {
   "cell_type": "code",
   "execution_count": 1,
   "metadata": {},
   "outputs": [],
   "source": [
    "import tensorflow as tf\n",
    "import tensorflow_probability as tfp\n",
    "import numpy as np\n",
    "from models import glow\n",
    "from flows.glow import resnet_glow\n",
    "from tensorflow.keras.datasets import cifar10\n",
    "from tensorflow.keras.utils import to_categorical"
   ]
  },
  {
   "cell_type": "code",
   "execution_count": 2,
   "metadata": {},
   "outputs": [],
   "source": [
    "(X_train, y_train), (X_test, y_test) = cifar10.load_data()\n",
    "batch_size = 1\n",
    "#X_train = np.expand_dims(X_train, axis=-1)\n",
    "X_train_ds = tf.data.Dataset.from_tensor_slices(X_train.astype(np.float32))\n",
    "X_train_ds = X_train_ds.map(lambda x: x / 255.).shuffle(buffer_size=1000).batch(batch_size)"
   ]
  },
  {
   "cell_type": "code",
   "execution_count": 7,
   "metadata": {},
   "outputs": [],
   "source": [
    "#n_vars = np.prod(X_train.shape[1:])\n",
    "#normal_diag = tfp.distributions.MultivariateNormalDiag(loc=tf.zeros((1,n_vars,)), scale_diag=tf.ones((1,n_vars,)))\n",
    "#reshape = tfp.bijectors.Reshape(X_train.shape[1:])\n",
    "#prior = reshape(normal_diag)\n",
    "prior = tfp.distributions.MultivariateNormalDiag(loc=tf.zeros((1, *X_train.shape[1:])), scale_diag=tf.ones((1, *X_train.shape[1:])))\n",
    "model = glow.Glow(prior, num_layers=3, depth_per_layer=8, coupling_nn_ctor=resnet_glow(hidden_dims=128),\n",
    "                  optimizer=tf.keras.optimizers.Adamax(lr=1.0E-4))"
   ]
  },
  {
   "cell_type": "code",
   "execution_count": 8,
   "metadata": {},
   "outputs": [
    {
     "name": "stderr",
     "output_type": "stream",
     "text": [
      "100%|██████████| 1000/1000 [54:42<00:00,  3.28s/it, loss=2.32e+7, nll=2.32e+7, ildj=2.71e+6, grad norm=6.49e+6]\n"
     ]
    }
   ],
   "source": [
    "from tqdm import tqdm\n",
    "N = 1000\n",
    "with tqdm(total=N) as prog:\n",
    "    loss_hist = []\n",
    "    nll_hist = []\n",
    "    for batch in X_train_ds.take(N):\n",
    "        loss, nll, ildj, grad_norm = model.train_batch(batch)\n",
    "        loss_hist.append(loss.numpy())\n",
    "        nll_hist.append(nll.numpy())\n",
    "        prog.update(batch_size)\n",
    "        prog.set_postfix({'loss': np.mean(loss_hist), 'nll': np.mean(nll_hist),\n",
    "                          'ildj': ildj.numpy(),\n",
    "                          'grad norm': grad_norm.numpy()})"
   ]
  },
  {
   "cell_type": "code",
   "execution_count": 9,
   "metadata": {},
   "outputs": [
    {
     "name": "stdout",
     "output_type": "stream",
     "text": [
      "tf.Tensor(\n",
      "[[[[-1.5538573   1.7702935   1.5816301 ]\n",
      "   [-1.2852435  -0.892591   -0.24179149]\n",
      "   [-1.7428317   0.08099414  1.4197927 ]\n",
      "   ...\n",
      "   [ 0.06508758  1.0524348   0.23970585]\n",
      "   [-0.62057847  0.3063658   1.4455342 ]\n",
      "   [-2.461542    1.1485254  -1.1975224 ]]\n",
      "\n",
      "  [[ 1.0668155  -1.0218328   0.45149657]\n",
      "   [-1.0343399  -0.09447701 -1.266674  ]\n",
      "   [ 0.9581291  -0.46383575  0.37119427]\n",
      "   ...\n",
      "   [ 0.3812227  -0.6397195  -0.07196636]\n",
      "   [ 1.6462691   0.14078276  1.1592841 ]\n",
      "   [-1.944432    0.3575421  -1.6368476 ]]\n",
      "\n",
      "  [[-1.9013448   0.12330469  0.01093638]\n",
      "   [-0.43890715 -1.2021683  -0.21665731]\n",
      "   [ 1.1836325  -1.1833553   0.30851415]\n",
      "   ...\n",
      "   [ 0.5720683   0.67432773  0.87295103]\n",
      "   [-0.23186931  1.2826301   0.21995738]\n",
      "   [ 0.14881164 -0.19464928  1.742219  ]]\n",
      "\n",
      "  ...\n",
      "\n",
      "  [[ 1.9977231   1.5693253   1.0518388 ]\n",
      "   [ 1.7825086   0.64386517 -2.1576688 ]\n",
      "   [ 0.10101982  0.8240722   1.1742182 ]\n",
      "   ...\n",
      "   [-0.6157734  -1.2534294  -0.77405745]\n",
      "   [ 1.1024866   0.46158564  1.3938475 ]\n",
      "   [ 0.2125809   0.49941352 -0.32101867]]\n",
      "\n",
      "  [[-0.9592433  -0.31002283  1.9389588 ]\n",
      "   [-1.2780159  -1.6408827   0.01135129]\n",
      "   [ 0.95754445  0.5627125   1.1346663 ]\n",
      "   ...\n",
      "   [-0.01091111 -0.8407087   0.74176   ]\n",
      "   [-0.9414797   1.1300089   0.16627882]\n",
      "   [ 0.0987159  -0.5632354  -1.2641808 ]]\n",
      "\n",
      "  [[ 1.2467836  -1.3403342   2.1221316 ]\n",
      "   [ 2.7495537   0.77813053 -2.0250297 ]\n",
      "   [ 0.2354208   0.5222834   0.32852578]\n",
      "   ...\n",
      "   [-0.31063852 -1.7673134  -0.76969725]\n",
      "   [ 1.3557669  -0.6575916   1.5341935 ]\n",
      "   [-0.00901524  0.7625003   0.68994623]]]], shape=(1, 32, 32, 3), dtype=float32)\n",
      "tf.Tensor(-168609810.0, shape=(), dtype=float32)\n"
     ]
    }
   ],
   "source": [
    "x = model.target_dist.sample()\n",
    "print(x)\n",
    "print(tf.math.reduce_mean(model.target_dist.log_prob(x)))\n",
    "_ = tf.debugging.assert_all_finite(x, 'found nan or inf values')"
   ]
  },
  {
   "cell_type": "code",
   "execution_count": 10,
   "metadata": {},
   "outputs": [
    {
     "name": "stderr",
     "output_type": "stream",
     "text": [
      "Clipping input data to the valid range for imshow with RGB data ([0..1] for floats or [0..255] for integers).\n"
     ]
    },
    {
     "data": {
      "text/plain": [
       "<matplotlib.image.AxesImage at 0x7f3b40d48e10>"
      ]
     },
     "execution_count": 10,
     "metadata": {},
     "output_type": "execute_result"
    },
    {
     "data": {
      "image/png": "[encoded data removed]",
      "text/plain": [
       "<Figure size 432x288 with 1 Axes>"
      ]
     },
     "metadata": {
      "needs_background": "light"
     },
     "output_type": "display_data"
    }
   ],
   "source": [
    "import matplotlib.pyplot as plt\n",
    "plt.imshow(tf.squeeze(x))"
   ]
  },
  {
   "cell_type": "code",
   "execution_count": null,
   "metadata": {},
   "outputs": [],
   "source": []
  },
  {
   "cell_type": "code",
   "execution_count": null,
   "metadata": {},
   "outputs": [],
   "source": []
  }
 ],
 "metadata": {
  "kernelspec": {
   "display_name": "Python 3",
   "language": "python",
   "name": "python3"
  },
  "language_info": {
   "codemirror_mode": {
    "name": "ipython",
    "version": 3
   },
   "file_extension": ".py",
   "mimetype": "text/x-python",
   "name": "python",
   "nbconvert_exporter": "python",
   "pygments_lexer": "ipython3",
   "version": "3.7.3"
  }
 },
 "nbformat": 4,
 "nbformat_minor": 4
}
